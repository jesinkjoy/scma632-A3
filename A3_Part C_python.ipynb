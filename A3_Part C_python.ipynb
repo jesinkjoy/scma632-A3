{
 "cells": [
  {
   "cell_type": "code",
   "execution_count": 31,
   "id": "69c65a43",
   "metadata": {},
   "outputs": [],
   "source": [
    "import pandas as pd\n",
    "import numpy as np\n",
    "import scipy.optimize as opt\n",
    "import statsmodels.api as sm\n",
    "from scipy.stats import norm\n",
    "from sklearn.preprocessing import StandardScaler"
   ]
  },
  {
   "cell_type": "code",
   "execution_count": 32,
   "id": "cca20c62",
   "metadata": {},
   "outputs": [
    {
     "name": "stderr",
     "output_type": "stream",
     "text": [
      "C:\\Users\\user\\AppData\\Local\\Temp\\ipykernel_15764\\786332066.py:2: DtypeWarning: Columns (1) have mixed types. Specify dtype option on import or set low_memory=False.\n",
      "  data = pd.read_csv(\"NSSO68.csv\")\n"
     ]
    }
   ],
   "source": [
    "# Load the dataset\n",
    "data = pd.read_csv(\"NSSO68.csv\")\n",
    "\n",
    "# Selecting relevant columns for analysis\n",
    "selected_cols = [\"MPCE_URP\", \"Age\", \"Sex\", \"Education\", \"Religion\", \"hhdsz\"]\n",
    "data_selected = data[selected_cols]\n",
    "\n",
    "# Handling missing values if any\n",
    "data_selected = data_selected.dropna()\n",
    "\n",
    "# Define censored data (left and right bounds)\n",
    "censored = (data_selected[\"MPCE_URP\"] == 0)  # Assuming censoring at 0\n",
    "\n",
    "# Scale the data\n",
    "scaler = StandardScaler()\n",
    "data_selected_scaled = scaler.fit_transform(data_selected.drop(columns=[\"MPCE_URP\"]))"
   ]
  },
  {
   "cell_type": "code",
   "execution_count": 33,
   "id": "7d5c6b35",
   "metadata": {},
   "outputs": [],
   "source": [
    "# Define the Tobit likelihood function\n",
    "def tobit_likelihood(params, y, X, censored):\n",
    "    beta = params[:-2]\n",
    "    sigma = params[-2]\n",
    "    nu = params[-1]\n",
    "    \n",
    "    mu = np.dot(X, beta)\n",
    "    resid = (y - mu) / sigma\n",
    "    pdf = norm.pdf(resid)\n",
    "    cdf = norm.cdf(nu)\n",
    "    \n",
    "    LL = np.sum(np.log(np.where(censored, cdf, pdf / sigma)))\n",
    "    return -LL\n"
   ]
  },
  {
   "cell_type": "code",
   "execution_count": 34,
   "id": "55cc36a7",
   "metadata": {},
   "outputs": [],
   "source": [
    "# Initial guess for parameters\n",
    "mean_y = np.mean(data_selected[\"MPCE_URP\"])\n",
    "initial_params = np.hstack((np.zeros(data_selected.shape[1]), [1.0, mean_y]))\n",
    "\n",
    "# Exogenous variables\n",
    "X = sm.add_constant(data_selected_scaled)\n",
    "\n",
    "# Endogenous variable\n",
    "y = data_selected[\"MPCE_URP\"]"
   ]
  },
  {
   "cell_type": "code",
   "execution_count": 35,
   "id": "10610ed5",
   "metadata": {},
   "outputs": [
    {
     "name": "stderr",
     "output_type": "stream",
     "text": [
      "C:\\Users\\user\\AppData\\Local\\Temp\\ipykernel_15764\\4082158152.py:12: RuntimeWarning: divide by zero encountered in log\n",
      "  LL = np.sum(np.log(np.where(censored, cdf, pdf / sigma)))\n",
      "C:\\Users\\user\\anaconda3\\Lib\\site-packages\\scipy\\optimize\\_numdiff.py:576: RuntimeWarning: invalid value encountered in subtract\n",
      "  df = fun(x) - f0\n"
     ]
    }
   ],
   "source": [
    "\n",
    "# Estimate parameters using maximum likelihood estimation (MLE)\n",
    "results = opt.minimize(tobit_likelihood, initial_params, args=(y, X, censored), method='BFGS')\n",
    "\n",
    "# Extract estimated parameters\n",
    "beta_est = results.x[:-2]\n",
    "sigma_est = results.x[-2]\n",
    "nu_est = results.x[-1]\n"
   ]
  },
  {
   "cell_type": "code",
   "execution_count": 36,
   "id": "0742fbbe",
   "metadata": {},
   "outputs": [
    {
     "name": "stdout",
     "output_type": "stream",
     "text": [
      "Coefficients:\n",
      "    Variable  Coefficient\n",
      "0      const          0.0\n",
      "1        Age          0.0\n",
      "2        Sex          0.0\n",
      "3  Education          0.0\n",
      "4   Religion          0.0\n",
      "5      hhdsz          0.0\n",
      "\n",
      "Sigma (Standard deviation of errors): 1.0\n",
      "Nu (Location parameter): 2050.83056762287\n"
     ]
    }
   ],
   "source": [
    "# Print results\n",
    "print(\"Coefficients:\")\n",
    "print(pd.DataFrame({\"Variable\": [\"const\"] + data_selected.drop(columns=[\"MPCE_URP\"]).columns.tolist(), \n",
    "                    \"Coefficient\": beta_est}))\n",
    "\n",
    "# Summary of the model\n",
    "print(\"\\nSigma (Standard deviation of errors):\", sigma_est)\n",
    "print(\"Nu (Location parameter):\", nu_est)\n"
   ]
  }
 ],
 "metadata": {
  "kernelspec": {
   "display_name": "Python 3 (ipykernel)",
   "language": "python",
   "name": "python3"
  },
  "language_info": {
   "codemirror_mode": {
    "name": "ipython",
    "version": 3
   },
   "file_extension": ".py",
   "mimetype": "text/x-python",
   "name": "python",
   "nbconvert_exporter": "python",
   "pygments_lexer": "ipython3",
   "version": "3.11.7"
  }
 },
 "nbformat": 4,
 "nbformat_minor": 5
}
